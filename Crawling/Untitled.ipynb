{
 "cells": [
  {
   "cell_type": "code",
   "execution_count": 1,
   "id": "3a73cb44",
   "metadata": {
    "ExecuteTime": {
     "end_time": "2023-01-16T02:31:12.785872Z",
     "start_time": "2023-01-16T02:31:12.754316Z"
    }
   },
   "outputs": [
    {
     "ename": "ModuleNotFoundError",
     "evalue": "No module named 'selenium'",
     "output_type": "error",
     "traceback": [
      "\u001b[1;31m---------------------------------------------------------------------------\u001b[0m",
      "\u001b[1;31mModuleNotFoundError\u001b[0m                       Traceback (most recent call last)",
      "Cell \u001b[1;32mIn[1], line 5\u001b[0m\n\u001b[0;32m      1\u001b[0m \u001b[38;5;66;03m#image selector = #islrg > div.islrc > div:nth-child(2) > a.wXeWr.islib.nfEiy > div.bRMDJf.islir > img\u001b[39;00m\n\u001b[0;32m      2\u001b[0m \u001b[38;5;66;03m#search XPATH = /html/body/div[1]/div[3]/form/div[1]/div[1]/div[1]/div/div[2]/input\u001b[39;00m\n\u001b[0;32m      3\u001b[0m \n\u001b[0;32m      4\u001b[0m \u001b[38;5;66;03m# 엔터키 사용 모듈\u001b[39;00m\n\u001b[1;32m----> 5\u001b[0m \u001b[38;5;28;01mfrom\u001b[39;00m \u001b[38;5;21;01mselenium\u001b[39;00m\u001b[38;5;21;01m.\u001b[39;00m\u001b[38;5;21;01mwebdriver\u001b[39;00m\u001b[38;5;21;01m.\u001b[39;00m\u001b[38;5;21;01mcommon\u001b[39;00m\u001b[38;5;21;01m.\u001b[39;00m\u001b[38;5;21;01mkeys\u001b[39;00m \u001b[38;5;28;01mimport\u001b[39;00m Keys\n\u001b[0;32m      7\u001b[0m \u001b[38;5;28;01mimport\u001b[39;00m \u001b[38;5;21;01mtime\u001b[39;00m\n\u001b[0;32m      8\u001b[0m \u001b[38;5;28;01mimport\u001b[39;00m \u001b[38;5;21;01mos\u001b[39;00m\n",
      "\u001b[1;31mModuleNotFoundError\u001b[0m: No module named 'selenium'"
     ]
    }
   ],
   "source": [
    "#image selector = #islrg > div.islrc > div:nth-child(2) > a.wXeWr.islib.nfEiy > div.bRMDJf.islir > img\n",
    "#search XPATH = /html/body/div[1]/div[3]/form/div[1]/div[1]/div[1]/div/div[2]/input\n",
    "\n",
    "# 엔터키 사용 모듈\n",
    "from selenium.webdriver.common.keys import Keys\n",
    "\n",
    "import time\n",
    "import os\n",
    "from selenium import webdriver\n",
    "from webdriver_manager.chrome import ChromeDriverManager\n",
    "from selenium.webdriver.common.by import By\n",
    "from selenium.webdriver.chrome.service import Service\n",
    "import urllib.request\n",
    "\n",
    "\n",
    "search = input(\"크롤링 할 대상 : \")\n",
    "\n",
    "def makedirs(path):\n",
    "\ttry:\n",
    "\t\tos.makedirs(path)\n",
    "\texcept OSError:\n",
    "\t\tif not os.path.isdir(path):\n",
    "\t\t\traise\n",
    "\n",
    "chrome_options = webdriver.ChromeOptions()\n",
    "driver = webdriver.Chrome(service=Service(ChromeDriverManager().install()), options=chrome_options)\n",
    "\n",
    "URL = 'https://www.google.co.kr/imghp'\n",
    "driver.get(url=URL)\n",
    "# 로딩될 때 까지 최대 10초동안 대기\n",
    "driver.implicitly_wait(time_to_wait=10)\n",
    "\n",
    "keyElement = driver.find_element(By.XPATH, '/html/body/div[1]/div[3]/form/div[1]/div[1]/div[1]/div/div[2]/input') # 검색창 선택\n",
    "keyElement.send_keys(search) # 입력\n",
    "keyElement.send_keys(Keys.RETURN) # 엔터\n",
    "\n",
    "bodyElement = driver.find_element(By.TAG_NAME, 'body')\n",
    "for i in range(20):\n",
    "\t# 0.2초마다 스크롤 다운\n",
    "\tbodyElement.send_keys(Keys.PAGE_DOWN)\n",
    "\ttime.sleep(0.2)\n",
    "\n",
    "# 검색 결과의 이미지들의 selector 저장\n",
    "images = driver.find_elements(By.CSS_SELECTOR, '#islrg > div.islrc > div > a.wXeWr.islib.nfEiy > div.bRMDJf.islir > img')\n",
    "\n",
    "imageURL = []\n",
    "for image in images:\n",
    "\tif image.get_attribute('src') is not None:\n",
    "\t\t# 이미지의 src태그의 주소 저장\n",
    "\t\timageURL.append(image.get_attribute('src'))\n",
    "\n",
    "# 이미지 저장\n",
    "f_path = 'WebImage/'+search\n",
    "makedirs(f_path)\n",
    "for seq, img_url in enumerate(imageURL):\n",
    "\t# WebImage/이름/web_이름_0.jpg\n",
    "\tsave_path = 'WebImage/'+search+'/web_'+search+'_'+str(seq)+'.jpg'\n",
    "\turllib.request.urlretrieve(img_url, save_path)"
   ]
  },
  {
   "cell_type": "code",
   "execution_count": 4,
   "id": "e4777511",
   "metadata": {
    "ExecuteTime": {
     "end_time": "2023-01-16T01:44:56.587052Z",
     "start_time": "2023-01-16T01:44:55.459267Z"
    }
   },
   "outputs": [
    {
     "name": "stdout",
     "output_type": "stream",
     "text": [
      "Requirement already satisfied: webdriver_manager in c:\\users\\gkstj\\anaconda3\\envs\\opencv\\lib\\site-packages (3.8.5)\n",
      "Requirement already satisfied: python-dotenv in c:\\users\\gkstj\\anaconda3\\envs\\opencv\\lib\\site-packages (from webdriver_manager) (0.21.0)\n",
      "Requirement already satisfied: tqdm in c:\\users\\gkstj\\anaconda3\\envs\\opencv\\lib\\site-packages (from webdriver_manager) (4.64.1)\n",
      "Requirement already satisfied: requests in c:\\users\\gkstj\\anaconda3\\envs\\opencv\\lib\\site-packages (from webdriver_manager) (2.28.1)\n",
      "Requirement already satisfied: packaging in c:\\users\\gkstj\\anaconda3\\envs\\opencv\\lib\\site-packages (from webdriver_manager) (23.0)\n",
      "Requirement already satisfied: certifi>=2017.4.17 in c:\\users\\gkstj\\anaconda3\\envs\\opencv\\lib\\site-packages (from requests->webdriver_manager) (2022.12.7)\n",
      "Requirement already satisfied: charset-normalizer<3,>=2 in c:\\users\\gkstj\\anaconda3\\envs\\opencv\\lib\\site-packages (from requests->webdriver_manager) (2.0.4)\n",
      "Requirement already satisfied: idna<4,>=2.5 in c:\\users\\gkstj\\anaconda3\\envs\\opencv\\lib\\site-packages (from requests->webdriver_manager) (3.4)\n",
      "Requirement already satisfied: urllib3<1.27,>=1.21.1 in c:\\users\\gkstj\\anaconda3\\envs\\opencv\\lib\\site-packages (from requests->webdriver_manager) (1.26.13)\n",
      "Requirement already satisfied: colorama in c:\\users\\gkstj\\anaconda3\\envs\\opencv\\lib\\site-packages (from tqdm->webdriver_manager) (0.4.6)\n"
     ]
    }
   ],
   "source": [
    "!pip install webdriver_manager"
   ]
  }
 ],
 "metadata": {
  "kernelspec": {
   "display_name": "Python 3 (ipykernel)",
   "language": "python",
   "name": "python3"
  },
  "language_info": {
   "codemirror_mode": {
    "name": "ipython",
    "version": 3
   },
   "file_extension": ".py",
   "mimetype": "text/x-python",
   "name": "python",
   "nbconvert_exporter": "python",
   "pygments_lexer": "ipython3",
   "version": "3.9.15"
  },
  "toc": {
   "base_numbering": 1,
   "nav_menu": {},
   "number_sections": true,
   "sideBar": true,
   "skip_h1_title": false,
   "title_cell": "Table of Contents",
   "title_sidebar": "Contents",
   "toc_cell": false,
   "toc_position": {},
   "toc_section_display": true,
   "toc_window_display": false
  }
 },
 "nbformat": 4,
 "nbformat_minor": 5
}
